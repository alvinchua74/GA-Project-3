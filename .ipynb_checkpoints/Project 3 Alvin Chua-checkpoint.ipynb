{
 "cells": [
  {
   "cell_type": "markdown",
   "metadata": {},
   "source": [
    "<img src=\"http://imgur.com/1ZcRyrc.png\" style=\"float: left; margin: 15px; height: 80px\">\n",
    "\n",
    "# Project 3\n",
    "\n",
    "### Regression and Classification with the Ames Housing Data\n",
    "\n",
    "---\n",
    "\n",
    "You have just joined a new \"full stack\" real estate company in Ames, Iowa. The strategy of the firm is two-fold:\n",
    "- Own the entire process from the purchase of the land all the way to sale of the house, and anything in between.\n",
    "- Use statistical analysis to optimize investment and maximize return.\n",
    "\n",
    "The company is still small, and though investment is substantial the short-term goals of the company are more oriented towards purchasing existing houses and flipping them as opposed to constructing entirely new houses. That being said, the company has access to a large construction workforce operating at rock-bottom prices.\n",
    "\n",
    "This project uses the [Ames housing data recently made available on kaggle](https://www.kaggle.com/c/house-prices-advanced-regression-techniques)."
   ]
  },
  {
   "cell_type": "code",
   "execution_count": 1,
   "metadata": {},
   "outputs": [],
   "source": [
    "import numpy as np\n",
    "import scipy.stats as stats\n",
    "import seaborn as sns\n",
    "import matplotlib.pyplot as plt\n",
    "import pandas as pd\n",
    "\n",
    "sns.set_style('whitegrid')\n",
    "\n",
    "%config InlineBackend.figure_format = 'retina'\n",
    "%matplotlib inline"
   ]
  },
  {
   "cell_type": "markdown",
   "metadata": {},
   "source": [
    "<img src=\"http://imgur.com/l5NasQj.png\" style=\"float: left; margin: 25px 15px 0px 0px; height: 25px\">\n",
    "\n",
    "## 1. Estimating the value of homes from fixed characteristics.\n",
    "\n",
    "---\n",
    "\n",
    "Your superiors have outlined this year's strategy for the company:\n",
    "1. Develop an algorithm to reliably estimate the value of residential houses based on *fixed* characteristics.\n",
    "2. Identify characteristics of houses that the company can cost-effectively change/renovate with their construction team.\n",
    "3. Evaluate the mean dollar value of different renovations.\n",
    "\n",
    "Then we can use that to buy houses that are likely to sell for more than the cost of the purchase plus renovations.\n",
    "\n",
    "Your first job is to tackle #1. You have a dataset of housing sale data with a huge amount of features identifying different aspects of the house. The full description of the data features can be found in a separate file:\n",
    "\n",
    "    housing.csv\n",
    "    data_description.txt\n",
    "    \n",
    "You need to build a reliable estimator for the price of the house given characteristics of the house that cannot be renovated. Some examples include:\n",
    "- The neighborhood\n",
    "- Square feet\n",
    "- Bedrooms, bathrooms\n",
    "- Basement and garage space\n",
    "\n",
    "and many more. \n",
    "\n",
    "Some examples of things that **ARE renovate-able:**\n",
    "- Roof and exterior features\n",
    "- \"Quality\" metrics, such as kitchen quality\n",
    "- \"Condition\" metrics, such as condition of garage\n",
    "- Heating and electrical components\n",
    "\n",
    "and generally anything you deem can be modified without having to undergo major construction on the house.\n",
    "\n",
    "---\n",
    "\n",
    "**Your goals:**\n",
    "1. Perform any cleaning, feature engineering, and EDA you deem necessary.\n",
    "- Be sure to remove any houses that are not residential from the dataset.\n",
    "- Identify **fixed** features that can predict price.\n",
    "- Train a model on pre-2010 data and evaluate its performance on the 2010 houses.\n",
    "- Characterize your model. How well does it perform? What are the best estimates of price?\n",
    "\n",
    "> **Note:** The EDA and feature engineering component to this project is not trivial! Be sure to always think critically and creatively. Justify your actions! Use the data description file!"
   ]
  },
  {
   "cell_type": "code",
   "execution_count": 2,
   "metadata": {},
   "outputs": [],
   "source": [
    "# Load the data\n",
    "house = pd.read_csv('./housing.csv')"
   ]
  },
  {
   "cell_type": "code",
   "execution_count": 3,
   "metadata": {},
   "outputs": [],
   "source": [
    "#residential houses\n",
    "residential = ['FV','RH','RL','RP','RM']\n",
    "#filter residential houses\n",
    "house = house[house.MSZoning.isin(residential)]"
   ]
  },
  {
   "cell_type": "code",
   "execution_count": 4,
   "metadata": {
    "scrolled": false
   },
   "outputs": [
    {
     "name": "stdout",
     "output_type": "stream",
     "text": [
      "<class 'pandas.core.frame.DataFrame'>\n",
      "Int64Index: 1450 entries, 0 to 1459\n",
      "Data columns (total 81 columns):\n",
      "Id               1450 non-null int64\n",
      "MSSubClass       1450 non-null int64\n",
      "MSZoning         1450 non-null object\n",
      "LotFrontage      1191 non-null float64\n",
      "LotArea          1450 non-null int64\n",
      "Street           1450 non-null object\n",
      "Alley            89 non-null object\n",
      "LotShape         1450 non-null object\n",
      "LandContour      1450 non-null object\n",
      "Utilities        1450 non-null object\n",
      "LotConfig        1450 non-null object\n",
      "LandSlope        1450 non-null object\n",
      "Neighborhood     1450 non-null object\n",
      "Condition1       1450 non-null object\n",
      "Condition2       1450 non-null object\n",
      "BldgType         1450 non-null object\n",
      "HouseStyle       1450 non-null object\n",
      "OverallQual      1450 non-null int64\n",
      "OverallCond      1450 non-null int64\n",
      "YearBuilt        1450 non-null int64\n",
      "YearRemodAdd     1450 non-null int64\n",
      "RoofStyle        1450 non-null object\n",
      "RoofMatl         1450 non-null object\n",
      "Exterior1st      1450 non-null object\n",
      "Exterior2nd      1450 non-null object\n",
      "MasVnrType       1442 non-null object\n",
      "MasVnrArea       1442 non-null float64\n",
      "ExterQual        1450 non-null object\n",
      "ExterCond        1450 non-null object\n",
      "Foundation       1450 non-null object\n",
      "BsmtQual         1413 non-null object\n",
      "BsmtCond         1413 non-null object\n",
      "BsmtExposure     1412 non-null object\n",
      "BsmtFinType1     1413 non-null object\n",
      "BsmtFinSF1       1450 non-null int64\n",
      "BsmtFinType2     1412 non-null object\n",
      "BsmtFinSF2       1450 non-null int64\n",
      "BsmtUnfSF        1450 non-null int64\n",
      "TotalBsmtSF      1450 non-null int64\n",
      "Heating          1450 non-null object\n",
      "HeatingQC        1450 non-null object\n",
      "CentralAir       1450 non-null object\n",
      "Electrical       1449 non-null object\n",
      "1stFlrSF         1450 non-null int64\n",
      "2ndFlrSF         1450 non-null int64\n",
      "LowQualFinSF     1450 non-null int64\n",
      "GrLivArea        1450 non-null int64\n",
      "BsmtFullBath     1450 non-null int64\n",
      "BsmtHalfBath     1450 non-null int64\n",
      "FullBath         1450 non-null int64\n",
      "HalfBath         1450 non-null int64\n",
      "BedroomAbvGr     1450 non-null int64\n",
      "KitchenAbvGr     1450 non-null int64\n",
      "KitchenQual      1450 non-null object\n",
      "TotRmsAbvGrd     1450 non-null int64\n",
      "Functional       1450 non-null object\n",
      "Fireplaces       1450 non-null int64\n",
      "FireplaceQu      769 non-null object\n",
      "GarageType       1371 non-null object\n",
      "GarageYrBlt      1371 non-null float64\n",
      "GarageFinish     1371 non-null object\n",
      "GarageCars       1450 non-null int64\n",
      "GarageArea       1450 non-null int64\n",
      "GarageQual       1371 non-null object\n",
      "GarageCond       1371 non-null object\n",
      "PavedDrive       1450 non-null object\n",
      "WoodDeckSF       1450 non-null int64\n",
      "OpenPorchSF      1450 non-null int64\n",
      "EnclosedPorch    1450 non-null int64\n",
      "3SsnPorch        1450 non-null int64\n",
      "ScreenPorch      1450 non-null int64\n",
      "PoolArea         1450 non-null int64\n",
      "PoolQC           7 non-null object\n",
      "Fence            278 non-null object\n",
      "MiscFeature      52 non-null object\n",
      "MiscVal          1450 non-null int64\n",
      "MoSold           1450 non-null int64\n",
      "YrSold           1450 non-null int64\n",
      "SaleType         1450 non-null object\n",
      "SaleCondition    1450 non-null object\n",
      "SalePrice        1450 non-null int64\n",
      "dtypes: float64(3), int64(35), object(43)\n",
      "memory usage: 928.9+ KB\n"
     ]
    }
   ],
   "source": [
    "house.info()"
   ]
  },
  {
   "cell_type": "code",
   "execution_count": 5,
   "metadata": {},
   "outputs": [
    {
     "name": "stdout",
     "output_type": "stream",
     "text": [
      "70.0\n",
      "70.0528967254408\n"
     ]
    }
   ],
   "source": [
    "# check mean and median value of LotFrontage,\n",
    "# if they are similiar, then I can impute the NaN\n",
    "# values with either median and mean\n",
    "\n",
    "print(house.LotFrontage.median())\n",
    "print(house.LotFrontage.mean())"
   ]
  },
  {
   "cell_type": "code",
   "execution_count": 6,
   "metadata": {},
   "outputs": [],
   "source": [
    "#impute LotFrontage NaN values with \n",
    "# median of LotFrontage\n",
    "\n",
    "house.LotFrontage.fillna(house.LotFrontage.median(),inplace=True)"
   ]
  },
  {
   "cell_type": "code",
   "execution_count": 7,
   "metadata": {},
   "outputs": [],
   "source": [
    "#fill Nan values with 'NA' string\n",
    "house.Alley.fillna('NA',inplace=True)"
   ]
  },
  {
   "cell_type": "code",
   "execution_count": 8,
   "metadata": {},
   "outputs": [
    {
     "data": {
      "text/html": [
       "<div>\n",
       "<style scoped>\n",
       "    .dataframe tbody tr th:only-of-type {\n",
       "        vertical-align: middle;\n",
       "    }\n",
       "\n",
       "    .dataframe tbody tr th {\n",
       "        vertical-align: top;\n",
       "    }\n",
       "\n",
       "    .dataframe thead th {\n",
       "        text-align: right;\n",
       "    }\n",
       "</style>\n",
       "<table border=\"1\" class=\"dataframe\">\n",
       "  <thead>\n",
       "    <tr style=\"text-align: right;\">\n",
       "      <th></th>\n",
       "      <th>Exterior1st</th>\n",
       "      <th>Exterior2nd</th>\n",
       "      <th>MasVnrType</th>\n",
       "      <th>MasVnrArea</th>\n",
       "      <th>ExterQual</th>\n",
       "      <th>ExterCond</th>\n",
       "      <th>Foundation</th>\n",
       "    </tr>\n",
       "  </thead>\n",
       "  <tbody>\n",
       "    <tr>\n",
       "      <th>234</th>\n",
       "      <td>VinylSd</td>\n",
       "      <td>VinylSd</td>\n",
       "      <td>NaN</td>\n",
       "      <td>NaN</td>\n",
       "      <td>Gd</td>\n",
       "      <td>TA</td>\n",
       "      <td>PConc</td>\n",
       "    </tr>\n",
       "    <tr>\n",
       "      <th>529</th>\n",
       "      <td>Wd Sdng</td>\n",
       "      <td>Stone</td>\n",
       "      <td>NaN</td>\n",
       "      <td>NaN</td>\n",
       "      <td>Gd</td>\n",
       "      <td>TA</td>\n",
       "      <td>PConc</td>\n",
       "    </tr>\n",
       "    <tr>\n",
       "      <th>650</th>\n",
       "      <td>CemntBd</td>\n",
       "      <td>CmentBd</td>\n",
       "      <td>NaN</td>\n",
       "      <td>NaN</td>\n",
       "      <td>Gd</td>\n",
       "      <td>TA</td>\n",
       "      <td>PConc</td>\n",
       "    </tr>\n",
       "    <tr>\n",
       "      <th>936</th>\n",
       "      <td>VinylSd</td>\n",
       "      <td>VinylSd</td>\n",
       "      <td>NaN</td>\n",
       "      <td>NaN</td>\n",
       "      <td>Gd</td>\n",
       "      <td>TA</td>\n",
       "      <td>PConc</td>\n",
       "    </tr>\n",
       "    <tr>\n",
       "      <th>973</th>\n",
       "      <td>CemntBd</td>\n",
       "      <td>CmentBd</td>\n",
       "      <td>NaN</td>\n",
       "      <td>NaN</td>\n",
       "      <td>Gd</td>\n",
       "      <td>TA</td>\n",
       "      <td>PConc</td>\n",
       "    </tr>\n",
       "    <tr>\n",
       "      <th>977</th>\n",
       "      <td>VinylSd</td>\n",
       "      <td>VinylSd</td>\n",
       "      <td>NaN</td>\n",
       "      <td>NaN</td>\n",
       "      <td>Gd</td>\n",
       "      <td>TA</td>\n",
       "      <td>PConc</td>\n",
       "    </tr>\n",
       "    <tr>\n",
       "      <th>1243</th>\n",
       "      <td>VinylSd</td>\n",
       "      <td>VinylSd</td>\n",
       "      <td>NaN</td>\n",
       "      <td>NaN</td>\n",
       "      <td>Ex</td>\n",
       "      <td>TA</td>\n",
       "      <td>PConc</td>\n",
       "    </tr>\n",
       "    <tr>\n",
       "      <th>1278</th>\n",
       "      <td>VinylSd</td>\n",
       "      <td>VinylSd</td>\n",
       "      <td>NaN</td>\n",
       "      <td>NaN</td>\n",
       "      <td>Gd</td>\n",
       "      <td>TA</td>\n",
       "      <td>PConc</td>\n",
       "    </tr>\n",
       "  </tbody>\n",
       "</table>\n",
       "</div>"
      ],
      "text/plain": [
       "     Exterior1st Exterior2nd MasVnrType  MasVnrArea ExterQual ExterCond  \\\n",
       "234      VinylSd     VinylSd        NaN         NaN        Gd        TA   \n",
       "529      Wd Sdng       Stone        NaN         NaN        Gd        TA   \n",
       "650      CemntBd     CmentBd        NaN         NaN        Gd        TA   \n",
       "936      VinylSd     VinylSd        NaN         NaN        Gd        TA   \n",
       "973      CemntBd     CmentBd        NaN         NaN        Gd        TA   \n",
       "977      VinylSd     VinylSd        NaN         NaN        Gd        TA   \n",
       "1243     VinylSd     VinylSd        NaN         NaN        Ex        TA   \n",
       "1278     VinylSd     VinylSd        NaN         NaN        Gd        TA   \n",
       "\n",
       "     Foundation  \n",
       "234       PConc  \n",
       "529       PConc  \n",
       "650       PConc  \n",
       "936       PConc  \n",
       "973       PConc  \n",
       "977       PConc  \n",
       "1243      PConc  \n",
       "1278      PConc  "
      ]
     },
     "execution_count": 8,
     "metadata": {},
     "output_type": "execute_result"
    }
   ],
   "source": [
    "# look at NaN fields in MasVnrType and MasVnrArea\n",
    "house[house.MasVnrType.isnull()].loc[:,'Exterior1st':'Foundation']"
   ]
  },
  {
   "cell_type": "code",
   "execution_count": 9,
   "metadata": {},
   "outputs": [],
   "source": [
    "#fill MasVnrType NaN values with 'None'\n",
    "house.MasVnrType.fillna('None',inplace=True)\n",
    "\n",
    "#fill MasVnrArea NaN values with 0\n",
    "house.MasVnrArea.fillna(0,inplace=True)\n",
    "\n",
    "#since the basement related quality and ratings are \n",
    "# NaN for houses with no basement, \n",
    "# I changed the NaN values to 'NA' string\n",
    "house.loc[:,'BsmtQual':'BsmtFinType2'] = house.loc[:,\n",
    "                    'BsmtQual':'BsmtFinType2'].apply(lambda x: x.fillna('NA'))"
   ]
  },
  {
   "cell_type": "code",
   "execution_count": 10,
   "metadata": {},
   "outputs": [
    {
     "data": {
      "text/plain": [
       "SBrkr    1328\n",
       "FuseA      90\n",
       "FuseF      27\n",
       "FuseP       3\n",
       "Mix         1\n",
       "NaN         1\n",
       "Name: Electrical, dtype: int64"
      ]
     },
     "execution_count": 10,
     "metadata": {},
     "output_type": "execute_result"
    }
   ],
   "source": [
    "#check values of Electrical\n",
    "house.Electrical.value_counts(dropna=False)"
   ]
  },
  {
   "cell_type": "code",
   "execution_count": 11,
   "metadata": {},
   "outputs": [],
   "source": [
    "# since there is only 1 NaN value, I replaced it with the highest count,\n",
    "#which is SBrkr\n",
    "house.Electrical.fillna('SBrkr',inplace=True)"
   ]
  },
  {
   "cell_type": "code",
   "execution_count": 12,
   "metadata": {},
   "outputs": [
    {
     "data": {
      "text/plain": [
       "0    681\n",
       "Name: Fireplaces, dtype: int64"
      ]
     },
     "execution_count": 12,
     "metadata": {},
     "output_type": "execute_result"
    }
   ],
   "source": [
    "#check number of counts of houses with 0 fireplace\n",
    "house[house.FireplaceQu.isnull()].loc[:,'Fireplaces'].value_counts()"
   ]
  },
  {
   "cell_type": "code",
   "execution_count": 13,
   "metadata": {},
   "outputs": [
    {
     "data": {
      "text/plain": [
       "NaN    681\n",
       "Name: FireplaceQu, dtype: int64"
      ]
     },
     "execution_count": 13,
     "metadata": {},
     "output_type": "execute_result"
    }
   ],
   "source": [
    "#check that number tallies with number of NaN values for FireplaceQu\n",
    "house[house.FireplaceQu.isnull()].loc[:,'FireplaceQu'].value_counts(dropna=False)"
   ]
  },
  {
   "cell_type": "code",
   "execution_count": 14,
   "metadata": {},
   "outputs": [],
   "source": [
    "#since FireplaceQu is NaN for houses with 0 fireplace, I will replace the NaN \n",
    "# with 'NA'\n",
    "house.FireplaceQu.fillna('NA',inplace=True)"
   ]
  },
  {
   "cell_type": "code",
   "execution_count": 15,
   "metadata": {},
   "outputs": [
    {
     "data": {
      "text/plain": [
       "GarageType      79\n",
       "GarageYrBlt     79\n",
       "GarageFinish    79\n",
       "GarageCars       0\n",
       "GarageArea       0\n",
       "GarageQual      79\n",
       "GarageCond      79\n",
       "dtype: int64"
      ]
     },
     "execution_count": 15,
     "metadata": {},
     "output_type": "execute_result"
    }
   ],
   "source": [
    "#check garage-related data for NaN values are the same\n",
    "# if they are the same, it means that the houses do not have a garage\n",
    "house.loc[:,'GarageType':'GarageCond'].isnull().sum()"
   ]
  },
  {
   "cell_type": "code",
   "execution_count": 16,
   "metadata": {},
   "outputs": [],
   "source": [
    "#since the garage-related quality and conditions are NaN for houses with no\n",
    "# garage, I changed the NaN values to 'NA' string\n",
    "\n",
    "#I did not change the GarageYrBuilt NaN values, since the variable is \n",
    "# already a float\n",
    "\n",
    "house.loc[:,['GarageType','GarageFinish','GarageQual','GarageCond']] = \\\n",
    "house.loc[:,['GarageType','GarageFinish','GarageQual','GarageCond']].apply(lambda x: x.fillna('NA'))"
   ]
  },
  {
   "cell_type": "code",
   "execution_count": 17,
   "metadata": {},
   "outputs": [],
   "source": [
    "#changed misc NaN values to 'NA'\n",
    "\n",
    "house.loc[:,'PoolArea':'MiscFeature'] = \\\n",
    "house.loc[:,'PoolArea':'MiscFeature'].apply(lambda x: x.fillna('NA'))"
   ]
  },
  {
   "cell_type": "raw",
   "metadata": {},
   "source": []
  },
  {
   "cell_type": "markdown",
   "metadata": {},
   "source": [
    "## Feature Engineering"
   ]
  },
  {
   "cell_type": "code",
   "execution_count": 18,
   "metadata": {},
   "outputs": [],
   "source": [
    "# create a dummy variable to check whether house was\n",
    "# remodelled before, 1 if Yes, and 0 if no\n",
    "\n",
    "house['is_remod'] = (house.YearBuilt != house.YearRemodAdd).astype('int')\n",
    "\n",
    "#drop YearBuilt and YearRemodAdd columns\n",
    "house.drop(['YearBuilt','YearRemodAdd'],axis=1,inplace=True)"
   ]
  },
  {
   "cell_type": "code",
   "execution_count": 19,
   "metadata": {},
   "outputs": [],
   "source": [
    "# #create a dictionary to change all quality and condition ratings to numbers\n",
    "# cond_qual_dict = {'Ex':5 , 'Gd':4, 'TA':3, 'Fa':2, 'Po':1, 'NA':0}\n",
    "\n",
    "# # #map with the dictionary\n",
    "# house.ExterQual = house.ExterQual.map(cond_qual_dict)\n",
    "# house.ExterCond = house.ExterCond.map(cond_qual_dict)\n",
    "# house.BsmtQual = house.BsmtQual.map(cond_qual_dict) \n",
    "# house.BsmtCond = house.BsmtCond.map(cond_qual_dict) \n",
    "# house.HeatingQC = house.HeatingQC.map(cond_qual_dict)\n",
    "# house.KitchenQual = house.KitchenQual.map(cond_qual_dict)\n",
    "# house.FireplaceQu = house.FireplaceQu.map(cond_qual_dict)\n",
    "# house.GarageQual = house.GarageQual.map(cond_qual_dict)\n",
    "# house.GarageCond = house.GarageCond.map(cond_qual_dict)"
   ]
  },
  {
   "cell_type": "code",
   "execution_count": 20,
   "metadata": {},
   "outputs": [],
   "source": [
    "#change to dummy variables\n",
    "house.CentralAir = house.CentralAir.map(lambda x: 1 if x=='Y' else 0)"
   ]
  },
  {
   "cell_type": "code",
   "execution_count": 21,
   "metadata": {},
   "outputs": [
    {
     "data": {
      "text/plain": [
       "No    947\n",
       "Av    219\n",
       "Gd    134\n",
       "Mn    112\n",
       "NA     38\n",
       "Name: BsmtExposure, dtype: int64"
      ]
     },
     "execution_count": 21,
     "metadata": {},
     "output_type": "execute_result"
    }
   ],
   "source": [
    "house.BsmtExposure.value_counts(dropna=False)"
   ]
  },
  {
   "cell_type": "code",
   "execution_count": 22,
   "metadata": {},
   "outputs": [],
   "source": [
    "# #create a dictionary to change BsmtExposure ratings to numbers\n",
    "# BsmtExposure_dict = {'Gd':4,'Av':3,'Mn':2,'No':1,'NA':0}\n",
    "# #map with dictionary\n",
    "# house.BsmtExposure = house.BsmtExposure.map(BsmtExposure_dict)"
   ]
  },
  {
   "cell_type": "code",
   "execution_count": 23,
   "metadata": {},
   "outputs": [
    {
     "data": {
      "text/plain": [
       "Unf    424\n",
       "GLQ    418\n",
       "ALQ    220\n",
       "BLQ    147\n",
       "Rec    130\n",
       "LwQ     74\n",
       "NA      37\n",
       "Name: BsmtFinType1, dtype: int64"
      ]
     },
     "execution_count": 23,
     "metadata": {},
     "output_type": "execute_result"
    }
   ],
   "source": [
    "house.BsmtFinType1.value_counts(dropna=False)"
   ]
  },
  {
   "cell_type": "code",
   "execution_count": 24,
   "metadata": {},
   "outputs": [
    {
     "data": {
      "text/plain": [
       "Unf    1246\n",
       "Rec      54\n",
       "LwQ      46\n",
       "NA       38\n",
       "BLQ      33\n",
       "ALQ      19\n",
       "GLQ      14\n",
       "Name: BsmtFinType2, dtype: int64"
      ]
     },
     "execution_count": 24,
     "metadata": {},
     "output_type": "execute_result"
    }
   ],
   "source": [
    "house.BsmtFinType2.value_counts(dropna=False)"
   ]
  },
  {
   "cell_type": "code",
   "execution_count": 25,
   "metadata": {},
   "outputs": [],
   "source": [
    "# #create a dictionary to change BsmtFinType ratings to numbers\n",
    "# BsmtFinType_dict = {'GLQ':6,'ALQ':5,'BLQ':4,'Rec':3,'LwQ':2,'Unf':1,'NA':0}\n",
    "\n",
    "# #map with dictionary\n",
    "# house.BsmtFinType1 = house.BsmtFinType1.map(BsmtFinType_dict)\n",
    "# house.BsmtFinType2 = house.BsmtFinType2.map(BsmtFinType_dict)"
   ]
  },
  {
   "cell_type": "code",
   "execution_count": 26,
   "metadata": {},
   "outputs": [],
   "source": [
    "# #create a dictionary to change Functional ratings to numbers\n",
    "# Functional_dict = {'Typ':8,'Min1':7,'Min2':6,'Mod':5,'Maj1':4,'Maj2':3,\n",
    "#                    'Sev':2,'Sal':1}\n",
    "# #map with dictionary\n",
    "# house.Functional = house.Functional.map(Functional_dict)"
   ]
  },
  {
   "cell_type": "code",
   "execution_count": null,
   "metadata": {},
   "outputs": [],
   "source": []
  },
  {
   "cell_type": "markdown",
   "metadata": {},
   "source": [
    "## Define Fixed and Renovatable Features"
   ]
  },
  {
   "cell_type": "code",
   "execution_count": 45,
   "metadata": {},
   "outputs": [],
   "source": [
    "fixed = ['MSSubClass','MSZoning','LotFrontage','LotArea','Street',\n",
    "         'Alley','LotShape','LandContour','LotConfig','LandSlope',\n",
    "         'Neighborhood','Condition1','Condition2','BldgType','HouseStyle',\n",
    "         'MasVnrType','MasVnrArea','Foundation','BsmtFinSF1','BsmtFinSF2',\n",
    "         'BsmtUnfSF','TotalBsmtSF','1stFlrSF','2ndFlrSF','LowQualFinSF',\n",
    "         'GrLivArea','BsmtFullBath','BsmtHalfBath','FullBath','HalfBath',\n",
    "         'BedroomAbvGr','KitchenAbvGr','TotRmsAbvGrd','Fireplaces','GarageType',\n",
    "         'GarageCars','GarageArea','PavedDrive','WoodDeckSF','OpenPorchSF',\n",
    "         'EnclosedPorch','3SsnPorch','ScreenPorch','PoolArea','MiscFeature',\n",
    "         'MiscVal'\n",
    "]\n",
    "\n",
    "renov = ['Utilities','OverallQual','OverallCond','RoofStyle','RoofMatl',\n",
    "         'Exterior1st','Exterior2nd','ExterQual','ExterCond','BsmtQual',\n",
    "         'BsmtCond','BsmtExposure','BsmtFinType1','BsmtFinType2','Heating',\n",
    "         'HeatingQC','CentralAir','Electrical','KitchenQual','Functional',\n",
    "         'FireplaceQu','GarageFinish','GarageQual','GarageCond','PoolQC',\n",
    "         'Fence'\n",
    "]\n",
    "\n",
    "target = ['SalePrice']\n",
    "\n",
    "house_fixed = house[fixed]\n",
    "house_renov = house[renov]"
   ]
  },
  {
   "cell_type": "code",
   "execution_count": 85,
   "metadata": {
    "scrolled": true
   },
   "outputs": [
    {
     "name": "stdout",
     "output_type": "stream",
     "text": [
      "Skip MSSubClass\n"
     ]
    }
   ],
   "source": [
    "fixed_categorical = []\n",
    "fixed_numeric = []\n",
    "\n",
    "for column in house_fixed:\n",
    "    if house_fixed[column].dtypes=='object':\n",
    "        fixed_categorical.append(column)\n",
    "    elif column == 'MSSubClass':\n",
    "        print('Skip',column)\n",
    "    else:\n",
    "        fixed_numeric.append(column)"
   ]
  },
  {
   "cell_type": "code",
   "execution_count": 86,
   "metadata": {},
   "outputs": [
    {
     "data": {
      "text/html": [
       "<div>\n",
       "<style scoped>\n",
       "    .dataframe tbody tr th:only-of-type {\n",
       "        vertical-align: middle;\n",
       "    }\n",
       "\n",
       "    .dataframe tbody tr th {\n",
       "        vertical-align: top;\n",
       "    }\n",
       "\n",
       "    .dataframe thead th {\n",
       "        text-align: right;\n",
       "    }\n",
       "</style>\n",
       "<table border=\"1\" class=\"dataframe\">\n",
       "  <thead>\n",
       "    <tr style=\"text-align: right;\">\n",
       "      <th></th>\n",
       "      <th>MSSubClass_30</th>\n",
       "      <th>MSSubClass_40</th>\n",
       "      <th>MSSubClass_45</th>\n",
       "      <th>MSSubClass_50</th>\n",
       "      <th>MSSubClass_60</th>\n",
       "      <th>MSSubClass_70</th>\n",
       "      <th>MSSubClass_75</th>\n",
       "      <th>MSSubClass_80</th>\n",
       "      <th>MSSubClass_85</th>\n",
       "      <th>MSSubClass_90</th>\n",
       "      <th>MSSubClass_120</th>\n",
       "      <th>MSSubClass_160</th>\n",
       "      <th>MSSubClass_180</th>\n",
       "      <th>MSSubClass_190</th>\n",
       "    </tr>\n",
       "  </thead>\n",
       "  <tbody>\n",
       "    <tr>\n",
       "      <th>0</th>\n",
       "      <td>0</td>\n",
       "      <td>0</td>\n",
       "      <td>0</td>\n",
       "      <td>0</td>\n",
       "      <td>1</td>\n",
       "      <td>0</td>\n",
       "      <td>0</td>\n",
       "      <td>0</td>\n",
       "      <td>0</td>\n",
       "      <td>0</td>\n",
       "      <td>0</td>\n",
       "      <td>0</td>\n",
       "      <td>0</td>\n",
       "      <td>0</td>\n",
       "    </tr>\n",
       "    <tr>\n",
       "      <th>1</th>\n",
       "      <td>0</td>\n",
       "      <td>0</td>\n",
       "      <td>0</td>\n",
       "      <td>0</td>\n",
       "      <td>0</td>\n",
       "      <td>0</td>\n",
       "      <td>0</td>\n",
       "      <td>0</td>\n",
       "      <td>0</td>\n",
       "      <td>0</td>\n",
       "      <td>0</td>\n",
       "      <td>0</td>\n",
       "      <td>0</td>\n",
       "      <td>0</td>\n",
       "    </tr>\n",
       "    <tr>\n",
       "      <th>2</th>\n",
       "      <td>0</td>\n",
       "      <td>0</td>\n",
       "      <td>0</td>\n",
       "      <td>0</td>\n",
       "      <td>1</td>\n",
       "      <td>0</td>\n",
       "      <td>0</td>\n",
       "      <td>0</td>\n",
       "      <td>0</td>\n",
       "      <td>0</td>\n",
       "      <td>0</td>\n",
       "      <td>0</td>\n",
       "      <td>0</td>\n",
       "      <td>0</td>\n",
       "    </tr>\n",
       "    <tr>\n",
       "      <th>3</th>\n",
       "      <td>0</td>\n",
       "      <td>0</td>\n",
       "      <td>0</td>\n",
       "      <td>0</td>\n",
       "      <td>0</td>\n",
       "      <td>1</td>\n",
       "      <td>0</td>\n",
       "      <td>0</td>\n",
       "      <td>0</td>\n",
       "      <td>0</td>\n",
       "      <td>0</td>\n",
       "      <td>0</td>\n",
       "      <td>0</td>\n",
       "      <td>0</td>\n",
       "    </tr>\n",
       "    <tr>\n",
       "      <th>4</th>\n",
       "      <td>0</td>\n",
       "      <td>0</td>\n",
       "      <td>0</td>\n",
       "      <td>0</td>\n",
       "      <td>1</td>\n",
       "      <td>0</td>\n",
       "      <td>0</td>\n",
       "      <td>0</td>\n",
       "      <td>0</td>\n",
       "      <td>0</td>\n",
       "      <td>0</td>\n",
       "      <td>0</td>\n",
       "      <td>0</td>\n",
       "      <td>0</td>\n",
       "    </tr>\n",
       "  </tbody>\n",
       "</table>\n",
       "</div>"
      ],
      "text/plain": [
       "   MSSubClass_30  MSSubClass_40  MSSubClass_45  MSSubClass_50  MSSubClass_60  \\\n",
       "0              0              0              0              0              1   \n",
       "1              0              0              0              0              0   \n",
       "2              0              0              0              0              1   \n",
       "3              0              0              0              0              0   \n",
       "4              0              0              0              0              1   \n",
       "\n",
       "   MSSubClass_70  MSSubClass_75  MSSubClass_80  MSSubClass_85  MSSubClass_90  \\\n",
       "0              0              0              0              0              0   \n",
       "1              0              0              0              0              0   \n",
       "2              0              0              0              0              0   \n",
       "3              1              0              0              0              0   \n",
       "4              0              0              0              0              0   \n",
       "\n",
       "   MSSubClass_120  MSSubClass_160  MSSubClass_180  MSSubClass_190  \n",
       "0               0               0               0               0  \n",
       "1               0               0               0               0  \n",
       "2               0               0               0               0  \n",
       "3               0               0               0               0  \n",
       "4               0               0               0               0  "
      ]
     },
     "execution_count": 86,
     "metadata": {},
     "output_type": "execute_result"
    }
   ],
   "source": [
    "pd.get_dummies(house_fixed.MSSubClass,drop_first=True,prefix='MSSubClass').head()"
   ]
  },
  {
   "cell_type": "code",
   "execution_count": 87,
   "metadata": {},
   "outputs": [
    {
     "data": {
      "text/html": [
       "<div>\n",
       "<style scoped>\n",
       "    .dataframe tbody tr th:only-of-type {\n",
       "        vertical-align: middle;\n",
       "    }\n",
       "\n",
       "    .dataframe tbody tr th {\n",
       "        vertical-align: top;\n",
       "    }\n",
       "\n",
       "    .dataframe thead th {\n",
       "        text-align: right;\n",
       "    }\n",
       "</style>\n",
       "<table border=\"1\" class=\"dataframe\">\n",
       "  <thead>\n",
       "    <tr style=\"text-align: right;\">\n",
       "      <th></th>\n",
       "      <th>MSZoning_RH</th>\n",
       "      <th>MSZoning_RL</th>\n",
       "      <th>MSZoning_RM</th>\n",
       "      <th>Street_Pave</th>\n",
       "      <th>Alley_NA</th>\n",
       "      <th>Alley_Pave</th>\n",
       "      <th>LotShape_IR2</th>\n",
       "      <th>LotShape_IR3</th>\n",
       "      <th>LotShape_Reg</th>\n",
       "      <th>LandContour_HLS</th>\n",
       "      <th>...</th>\n",
       "      <th>GarageType_BuiltIn</th>\n",
       "      <th>GarageType_CarPort</th>\n",
       "      <th>GarageType_Detchd</th>\n",
       "      <th>GarageType_NA</th>\n",
       "      <th>PavedDrive_P</th>\n",
       "      <th>PavedDrive_Y</th>\n",
       "      <th>MiscFeature_NA</th>\n",
       "      <th>MiscFeature_Othr</th>\n",
       "      <th>MiscFeature_Shed</th>\n",
       "      <th>MiscFeature_TenC</th>\n",
       "    </tr>\n",
       "  </thead>\n",
       "  <tbody>\n",
       "    <tr>\n",
       "      <th>0</th>\n",
       "      <td>0</td>\n",
       "      <td>1</td>\n",
       "      <td>0</td>\n",
       "      <td>1</td>\n",
       "      <td>1</td>\n",
       "      <td>0</td>\n",
       "      <td>0</td>\n",
       "      <td>0</td>\n",
       "      <td>1</td>\n",
       "      <td>0</td>\n",
       "      <td>...</td>\n",
       "      <td>0</td>\n",
       "      <td>0</td>\n",
       "      <td>0</td>\n",
       "      <td>0</td>\n",
       "      <td>0</td>\n",
       "      <td>1</td>\n",
       "      <td>1</td>\n",
       "      <td>0</td>\n",
       "      <td>0</td>\n",
       "      <td>0</td>\n",
       "    </tr>\n",
       "    <tr>\n",
       "      <th>1</th>\n",
       "      <td>0</td>\n",
       "      <td>1</td>\n",
       "      <td>0</td>\n",
       "      <td>1</td>\n",
       "      <td>1</td>\n",
       "      <td>0</td>\n",
       "      <td>0</td>\n",
       "      <td>0</td>\n",
       "      <td>1</td>\n",
       "      <td>0</td>\n",
       "      <td>...</td>\n",
       "      <td>0</td>\n",
       "      <td>0</td>\n",
       "      <td>0</td>\n",
       "      <td>0</td>\n",
       "      <td>0</td>\n",
       "      <td>1</td>\n",
       "      <td>1</td>\n",
       "      <td>0</td>\n",
       "      <td>0</td>\n",
       "      <td>0</td>\n",
       "    </tr>\n",
       "    <tr>\n",
       "      <th>2</th>\n",
       "      <td>0</td>\n",
       "      <td>1</td>\n",
       "      <td>0</td>\n",
       "      <td>1</td>\n",
       "      <td>1</td>\n",
       "      <td>0</td>\n",
       "      <td>0</td>\n",
       "      <td>0</td>\n",
       "      <td>0</td>\n",
       "      <td>0</td>\n",
       "      <td>...</td>\n",
       "      <td>0</td>\n",
       "      <td>0</td>\n",
       "      <td>0</td>\n",
       "      <td>0</td>\n",
       "      <td>0</td>\n",
       "      <td>1</td>\n",
       "      <td>1</td>\n",
       "      <td>0</td>\n",
       "      <td>0</td>\n",
       "      <td>0</td>\n",
       "    </tr>\n",
       "    <tr>\n",
       "      <th>3</th>\n",
       "      <td>0</td>\n",
       "      <td>1</td>\n",
       "      <td>0</td>\n",
       "      <td>1</td>\n",
       "      <td>1</td>\n",
       "      <td>0</td>\n",
       "      <td>0</td>\n",
       "      <td>0</td>\n",
       "      <td>0</td>\n",
       "      <td>0</td>\n",
       "      <td>...</td>\n",
       "      <td>0</td>\n",
       "      <td>0</td>\n",
       "      <td>1</td>\n",
       "      <td>0</td>\n",
       "      <td>0</td>\n",
       "      <td>1</td>\n",
       "      <td>1</td>\n",
       "      <td>0</td>\n",
       "      <td>0</td>\n",
       "      <td>0</td>\n",
       "    </tr>\n",
       "    <tr>\n",
       "      <th>4</th>\n",
       "      <td>0</td>\n",
       "      <td>1</td>\n",
       "      <td>0</td>\n",
       "      <td>1</td>\n",
       "      <td>1</td>\n",
       "      <td>0</td>\n",
       "      <td>0</td>\n",
       "      <td>0</td>\n",
       "      <td>0</td>\n",
       "      <td>0</td>\n",
       "      <td>...</td>\n",
       "      <td>0</td>\n",
       "      <td>0</td>\n",
       "      <td>0</td>\n",
       "      <td>0</td>\n",
       "      <td>0</td>\n",
       "      <td>1</td>\n",
       "      <td>1</td>\n",
       "      <td>0</td>\n",
       "      <td>0</td>\n",
       "      <td>0</td>\n",
       "    </tr>\n",
       "  </tbody>\n",
       "</table>\n",
       "<p>5 rows × 88 columns</p>\n",
       "</div>"
      ],
      "text/plain": [
       "   MSZoning_RH  MSZoning_RL  MSZoning_RM  Street_Pave  Alley_NA  Alley_Pave  \\\n",
       "0            0            1            0            1         1           0   \n",
       "1            0            1            0            1         1           0   \n",
       "2            0            1            0            1         1           0   \n",
       "3            0            1            0            1         1           0   \n",
       "4            0            1            0            1         1           0   \n",
       "\n",
       "   LotShape_IR2  LotShape_IR3  LotShape_Reg  LandContour_HLS  \\\n",
       "0             0             0             1                0   \n",
       "1             0             0             1                0   \n",
       "2             0             0             0                0   \n",
       "3             0             0             0                0   \n",
       "4             0             0             0                0   \n",
       "\n",
       "         ...         GarageType_BuiltIn  GarageType_CarPort  \\\n",
       "0        ...                          0                   0   \n",
       "1        ...                          0                   0   \n",
       "2        ...                          0                   0   \n",
       "3        ...                          0                   0   \n",
       "4        ...                          0                   0   \n",
       "\n",
       "   GarageType_Detchd  GarageType_NA  PavedDrive_P  PavedDrive_Y  \\\n",
       "0                  0              0             0             1   \n",
       "1                  0              0             0             1   \n",
       "2                  0              0             0             1   \n",
       "3                  1              0             0             1   \n",
       "4                  0              0             0             1   \n",
       "\n",
       "   MiscFeature_NA  MiscFeature_Othr  MiscFeature_Shed  MiscFeature_TenC  \n",
       "0               1                 0                 0                 0  \n",
       "1               1                 0                 0                 0  \n",
       "2               1                 0                 0                 0  \n",
       "3               1                 0                 0                 0  \n",
       "4               1                 0                 0                 0  \n",
       "\n",
       "[5 rows x 88 columns]"
      ]
     },
     "execution_count": 87,
     "metadata": {},
     "output_type": "execute_result"
    }
   ],
   "source": [
    "pd.get_dummies(house_fixed[fixed_categorical],drop_first=True).head()"
   ]
  },
  {
   "cell_type": "markdown",
   "metadata": {},
   "source": [
    "<img src=\"http://imgur.com/l5NasQj.png\" style=\"float: left; margin: 25px 15px 0px 0px; height: 25px\">\n",
    "\n",
    "## 2. Determine any value of *changeable* property characteristics unexplained by the *fixed* ones.\n",
    "\n",
    "---\n",
    "\n",
    "Now that you have a model that estimates the price of a house based on its static characteristics, we can move forward with part 2 and 3 of the plan: what are the costs/benefits of quality, condition, and renovations?\n",
    "\n",
    "There are two specific requirements for these estimates:\n",
    "1. The estimates of effects must be in terms of dollars added or subtracted from the house value. \n",
    "2. The effects must be on the variance in price remaining from the first model.\n",
    "\n",
    "The residuals from the first model (training and testing) represent the variance in price unexplained by the fixed characteristics. Of that variance in price remaining, how much of it can be explained by the easy-to-change aspects of the property?\n",
    "\n",
    "---\n",
    "\n",
    "**Your goals:**\n",
    "1. Evaluate the effect in dollars of the renovate-able features. \n",
    "- How would your company use this second model and its coefficients to determine whether they should buy a property or not? Explain how the company can use the two models you have built to determine if they can make money. \n",
    "- Investigate how much of the variance in price remaining is explained by these features.\n",
    "- Do you trust your model? Should it be used to evaluate which properties to buy and fix up?"
   ]
  },
  {
   "cell_type": "code",
   "execution_count": 27,
   "metadata": {},
   "outputs": [],
   "source": [
    "# A:"
   ]
  },
  {
   "cell_type": "markdown",
   "metadata": {},
   "source": [
    "<img src=\"http://imgur.com/GCAf1UX.png\" style=\"float: left; margin: 25px 15px 0px 0px; height: 25px\">\n",
    "\n",
    "## 3. What property characteristics predict an \"abnormal\" sale?\n",
    "\n",
    "---\n",
    "\n",
    "The `SaleCondition` feature indicates the circumstances of the house sale. From the data file, we can see that the possibilities are:\n",
    "\n",
    "       Normal\tNormal Sale\n",
    "       Abnorml\tAbnormal Sale -  trade, foreclosure, short sale\n",
    "       AdjLand\tAdjoining Land Purchase\n",
    "       Alloca\tAllocation - two linked properties with separate deeds, typically condo with a garage unit\t\n",
    "       Family\tSale between family members\n",
    "       Partial\tHome was not completed when last assessed (associated with New Homes)\n",
    "       \n",
    "One of the executives at your company has an \"in\" with higher-ups at the major regional bank. His friends at the bank have made him a proposal: if he can reliably indicate what features, if any, predict \"abnormal\" sales (foreclosures, short sales, etc.), then in return the bank will give him first dibs on the pre-auction purchase of those properties (at a dirt-cheap price).\n",
    "\n",
    "He has tasked you with determining (and adequately validating) which features of a property predict this type of sale. \n",
    "\n",
    "---\n",
    "\n",
    "**Your task:**\n",
    "1. Determine which features predict the `Abnorml` category in the `SaleCondition` feature.\n",
    "- Justify your results.\n",
    "\n",
    "This is a challenging task that tests your ability to perform classification analysis in the face of severe class imbalance. You may find that simply running a classifier on the full dataset to predict the category ends up useless: when there is bad class imbalance classifiers often tend to simply guess the majority class.\n",
    "\n",
    "It is up to you to determine how you will tackle this problem. I recommend doing some research to find out how others have dealt with the problem in the past. Make sure to justify your solution. Don't worry about it being \"the best\" solution, but be rigorous.\n",
    "\n",
    "Be sure to indicate which features are predictive (if any) and whether they are positive or negative predictors of abnormal sales."
   ]
  },
  {
   "cell_type": "code",
   "execution_count": 28,
   "metadata": {},
   "outputs": [],
   "source": [
    "# A:"
   ]
  }
 ],
 "metadata": {
  "kernelspec": {
   "display_name": "Python 3",
   "language": "python",
   "name": "python3"
  },
  "language_info": {
   "codemirror_mode": {
    "name": "ipython",
    "version": 3
   },
   "file_extension": ".py",
   "mimetype": "text/x-python",
   "name": "python",
   "nbconvert_exporter": "python",
   "pygments_lexer": "ipython3",
   "version": "3.7.1"
  }
 },
 "nbformat": 4,
 "nbformat_minor": 2
}
